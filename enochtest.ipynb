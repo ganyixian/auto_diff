{
 "cells": [
  {
   "cell_type": "code",
   "execution_count": 1,
   "metadata": {
    "collapsed": false
   },
   "outputs": [
    {
     "name": "stdout",
     "output_type": "stream",
     "text": [
      "Found existing installation: auto_diff_CGLLY 0.0.3\r\n",
      "Uninstalling auto_diff_CGLLY-0.0.3:\r\n",
      "  Successfully uninstalled auto_diff_CGLLY-0.0.3\r\n"
     ]
    }
   ],
   "source": [
    "!python -m pip uninstall -y auto_diff_CGLLY"
   ]
  },
  {
   "cell_type": "markdown",
   "metadata": {
    "collapsed": false
   },
   "source": [
    "## Before Use"
   ]
  },
  {
   "cell_type": "code",
   "execution_count": 10,
   "metadata": {
    "collapsed": false
   },
   "outputs": [
    {
     "name": "stdout",
     "output_type": "stream",
     "text": [
      "Python 3.10.6\r\n"
     ]
    }
   ],
   "source": [
    "!python3 --version"
   ]
  },
  {
   "cell_type": "code",
   "execution_count": 1,
   "metadata": {
    "collapsed": false
   },
   "outputs": [
    {
     "name": "stdout",
     "output_type": "stream",
     "text": [
      "Processing /Users/enoch/Desktop/cs107/team04\r\n",
      "  Installing build dependencies ... \u001B[?25ldone\r\n",
      "\u001B[?25h  Getting requirements to build wheel ... \u001B[?25ldone\r\n",
      "\u001B[?25h  Preparing metadata (pyproject.toml) ... \u001B[?25ldone\r\n",
      "\u001B[?25hRequirement already satisfied: numpy in ./venv/lib/python3.10/site-packages (from auto_diff_CGLLY==0.0.3) (1.23.5)\r\n",
      "Requirement already satisfied: pytest-cov in ./venv/lib/python3.10/site-packages (from auto_diff_CGLLY==0.0.3) (4.0.0)\r\n",
      "Requirement already satisfied: pytest in ./venv/lib/python3.10/site-packages (from auto_diff_CGLLY==0.0.3) (7.2.0)\r\n",
      "Requirement already satisfied: pluggy<2.0,>=0.12 in ./venv/lib/python3.10/site-packages (from pytest->auto_diff_CGLLY==0.0.3) (1.0.0)\r\n",
      "Requirement already satisfied: tomli>=1.0.0 in ./venv/lib/python3.10/site-packages (from pytest->auto_diff_CGLLY==0.0.3) (2.0.1)\r\n",
      "Requirement already satisfied: iniconfig in ./venv/lib/python3.10/site-packages (from pytest->auto_diff_CGLLY==0.0.3) (1.1.1)\r\n",
      "Requirement already satisfied: packaging in ./venv/lib/python3.10/site-packages (from pytest->auto_diff_CGLLY==0.0.3) (22.0)\r\n",
      "Requirement already satisfied: exceptiongroup>=1.0.0rc8 in ./venv/lib/python3.10/site-packages (from pytest->auto_diff_CGLLY==0.0.3) (1.0.4)\r\n",
      "Requirement already satisfied: attrs>=19.2.0 in ./venv/lib/python3.10/site-packages (from pytest->auto_diff_CGLLY==0.0.3) (22.1.0)\r\n",
      "Requirement already satisfied: coverage[toml]>=5.2.1 in ./venv/lib/python3.10/site-packages (from pytest-cov->auto_diff_CGLLY==0.0.3) (6.5.0)\r\n",
      "Building wheels for collected packages: auto_diff_CGLLY\r\n",
      "  Building wheel for auto_diff_CGLLY (pyproject.toml) ... \u001B[?25ldone\r\n",
      "\u001B[?25h  Created wheel for auto_diff_CGLLY: filename=auto_diff_cglly-0.0.3-py3-none-any.whl size=11664 sha256=5840b80bb5f980dfab3a2a9eff0de34a0e3446d33ab97b0adf2c52958becb1a0\r\n",
      "  Stored in directory: /private/var/folders/ql/mx708dq96gb4r0mznq715pxm0000gn/T/pip-ephem-wheel-cache-cietvty3/wheels/91/f0/c1/fb302961760cb4bd04ffecc90746c01f2e1b8d59fe2f944346\r\n",
      "Successfully built auto_diff_CGLLY\r\n",
      "Installing collected packages: auto_diff_CGLLY\r\n",
      "Successfully installed auto_diff_CGLLY-0.0.3\r\n"
     ]
    }
   ],
   "source": [
    "# Also can run the following command to install the package\n",
    "!python3 -m pip install ."
   ]
  },
  {
   "cell_type": "code",
   "execution_count": 4,
   "outputs": [
    {
     "name": "stdout",
     "output_type": "stream",
     "text": [
      "Looking in indexes: https://test.pypi.org/simple/\r\n",
      "Collecting auto-diff-2022-fall-team04==0.0.2\r\n",
      "  Downloading https://test-files.pythonhosted.org/packages/f9/8b/227a77a6d2882528389d90330079e82705d0b8eb9605d7e272dc5f616afe/auto_diff_2022_fall_team04-0.0.2-py3-none-any.whl (11 kB)\r\n",
      "Installing collected packages: auto-diff-2022-fall-team04\r\n",
      "Successfully installed auto-diff-2022-fall-team04-0.0.2\r\n",
      "Note: you may need to restart the kernel to use updated packages.\n"
     ]
    }
   ],
   "source": [
    "pip install -i https://test.pypi.org/simple/ auto-diff-2022-fall-team04==0.0.2"
   ],
   "metadata": {
    "collapsed": false
   }
  },
  {
   "cell_type": "markdown",
   "metadata": {
    "collapsed": false
   },
   "source": [
    "## Code Demo"
   ]
  },
  {
   "cell_type": "code",
   "execution_count": 3,
   "metadata": {},
   "outputs": [],
   "source": [
    "# After install our AD package, you should import our package use following code\n",
    "from auto_diff_CGLLY import Variable, Expression"
   ]
  },
  {
   "cell_type": "code",
   "execution_count": 4,
   "metadata": {
    "collapsed": false
   },
   "outputs": [],
   "source": [
    "# Declare the variables x, y\n",
    "x, y = Variable('x'), Variable('y')"
   ]
  },
  {
   "cell_type": "markdown",
   "metadata": {
    "collapsed": false
   },
   "source": []
  },
  {
   "cell_type": "code",
   "execution_count": 5,
   "metadata": {
    "collapsed": false
   },
   "outputs": [
    {
     "name": "stdout",
     "output_type": "stream",
     "text": [
      "Now in Forward mode!\n"
     ]
    },
    {
     "data": {
      "text/plain": "([3, 4, 5], [1, 1, 1])"
     },
     "execution_count": 5,
     "metadata": {},
     "output_type": "execute_result"
    }
   ],
   "source": [
    "#create a function f = x + y\n",
    "f = x + y\n",
    "f_val, f_deriv = f({'x':[1,2,3], 'y':2}, seed={'x':[1,1,1], 'y':0})  #input x, y value, it could be either a scalar or a vector. If we want the partial derivative with respect to x, we can set the seeds x=0, y=1\n",
    "f_val, f_deriv  #Our function will return the value of f and the partial derivative with respect to x"
   ]
  },
  {
   "cell_type": "code",
   "execution_count": 6,
   "metadata": {
    "collapsed": false
   },
   "outputs": [
    {
     "name": "stdout",
     "output_type": "stream",
     "text": [
      "Now in Forward mode!\n"
     ]
    },
    {
     "data": {
      "text/plain": "([26.55143034070856, 28.928520836211327, 27.771659918016052],\n [-1.7043352568276104, -0.1268805219210355, 3.6788289104722476])"
     },
     "execution_count": 6,
     "metadata": {},
     "output_type": "execute_result"
    }
   ],
   "source": [
    "# create a complex function f = sin(4x) + cosh(4y) + log_3 (x*y)\n",
    "x, y = Variable('x'), Variable('y')\n",
    "f = Expression.sin(x * 4) + Expression.cosh(y * 4) + Expression.log_base(x * y,3)\n",
    "f_val, f_deriv = f({'x': [1,2,3], 'y': 1 }, seed = {'x':[1,1,1], 'y':0})\n",
    "f_val, f_deriv"
   ]
  },
  {
   "cell_type": "code",
   "execution_count": 7,
   "metadata": {
    "collapsed": false
   },
   "outputs": [
    {
     "data": {
      "text/plain": "(array([26.55143034, 28.92852084, 27.77165992]),\n {'x': array([-1.70433526, -0.12688052,  3.67882891]),\n  'y': array([110.06990802, 110.06990802, 110.06990802])})"
     },
     "execution_count": 7,
     "metadata": {},
     "output_type": "execute_result"
    }
   ],
   "source": [
    "x, y = Variable('x', mode = 'r'), Variable('y', mode = 'r')\n",
    "f = Expression.sin(x * 4) + Expression.cosh(y * 4) + Expression.log_base(x * y,3)\n",
    "f_val, f_deriv = f({'x': [1,2,3], 'y': 1})\n",
    "f_val, f_deriv"
   ]
  },
  {
   "cell_type": "code",
   "execution_count": 7,
   "metadata": {},
   "outputs": [],
   "source": []
  },
  {
   "cell_type": "code",
   "execution_count": 13,
   "outputs": [],
   "source": [],
   "metadata": {
    "collapsed": false
   }
  }
 ],
 "metadata": {
  "kernelspec": {
   "display_name": "Python 3.10.6 64-bit",
   "language": "python",
   "name": "python3"
  },
  "language_info": {
   "codemirror_mode": {
    "name": "ipython",
    "version": 3
   },
   "file_extension": ".py",
   "mimetype": "text/x-python",
   "name": "python",
   "nbconvert_exporter": "python",
   "pygments_lexer": "ipython3",
   "version": "3.10.6"
  },
  "vscode": {
   "interpreter": {
    "hash": "aee8b7b246df8f9039afb4144a1f6fd8d2ca17a180786b69acc140d282b71a49"
   }
  }
 },
 "nbformat": 4,
 "nbformat_minor": 4
}
