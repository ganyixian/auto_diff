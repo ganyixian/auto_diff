{
 "cells": [
  {
   "cell_type": "code",
   "execution_count": 3,
   "metadata": {
    "collapsed": false
   },
   "outputs": [
    {
     "name": "stdout",
     "output_type": "stream",
     "text": [
      "Found existing installation: auto_diff_2022_fall_team04 0.0.2\r\n",
      "Uninstalling auto_diff_2022_fall_team04-0.0.2:\r\n",
      "  Successfully uninstalled auto_diff_2022_fall_team04-0.0.2\r\n"
     ]
    }
   ],
   "source": [
    "!python -m pip uninstall -y auto_diff_2022_fall_team04"
   ]
  },
  {
   "cell_type": "markdown",
   "metadata": {
    "collapsed": false
   },
   "source": [
    "## Before Use"
   ]
  },
  {
   "cell_type": "code",
   "execution_count": null,
   "metadata": {
    "collapsed": false
   },
   "outputs": [],
   "source": [
    "!python3 --version"
   ]
  },
  {
   "cell_type": "code",
   "execution_count": null,
   "metadata": {
    "collapsed": false
   },
   "outputs": [],
   "source": [
    "# Also can run the following command to install the package\n",
    "# !python3 -m pip install ."
   ]
  },
  {
   "cell_type": "code",
   "execution_count": 8,
   "outputs": [
    {
     "name": "stdout",
     "output_type": "stream",
     "text": [
      "Looking in indexes: https://test.pypi.org/simple/\r\n",
      "Collecting auto-diff-2022-fall-team04==0.0.2\r\n",
      "  Downloading https://test-files.pythonhosted.org/packages/f9/8b/227a77a6d2882528389d90330079e82705d0b8eb9605d7e272dc5f616afe/auto_diff_2022_fall_team04-0.0.2-py3-none-any.whl (11 kB)\r\n",
      "Installing collected packages: auto-diff-2022-fall-team04\r\n",
      "Successfully installed auto-diff-2022-fall-team04-0.0.2\r\n"
     ]
    }
   ],
   "source": [
    "!python -m pip install -i https://test.pypi.org/simple/ auto-diff-2022-fall-team04==0.0.2"
   ],
   "metadata": {
    "collapsed": false
   }
  },
  {
   "cell_type": "markdown",
   "metadata": {
    "collapsed": false
   },
   "source": [
    "## Code Demo"
   ]
  },
  {
   "cell_type": "code",
   "execution_count": 9,
   "metadata": {},
   "outputs": [],
   "source": [
    "# After install our AD package, you should import our package use following code\n",
    "from auto_diff_2022_fall_team04 import Variable, Expression"
   ]
  },
  {
   "cell_type": "code",
   "execution_count": 10,
   "metadata": {
    "collapsed": false
   },
   "outputs": [],
   "source": [
    "# Declare the variables x, y\n",
    "x, y = Variable('x'), Variable('y')"
   ]
  },
  {
   "cell_type": "markdown",
   "metadata": {
    "collapsed": false
   },
   "source": []
  },
  {
   "cell_type": "code",
   "execution_count": 11,
   "metadata": {
    "collapsed": false
   },
   "outputs": [
    {
     "name": "stdout",
     "output_type": "stream",
     "text": [
      "Now in Forward mode!\n"
     ]
    },
    {
     "data": {
      "text/plain": "([3, 4, 5], [1, 1, 1])"
     },
     "execution_count": 11,
     "metadata": {},
     "output_type": "execute_result"
    }
   ],
   "source": [
    "#create a function f = x + y\n",
    "f = x + y\n",
    "f_val, f_deriv = f({'x':[1,2,3], 'y':2}, seed={'x':[1,1,1], 'y':0})  #input x, y value, it could be either a scalar or a vector. If we want the partial derivative with respect to x, we can set the seeds x=0, y=1\n",
    "f_val, f_deriv  #Our function will return the value of f and the partial derivative with respect to x"
   ]
  },
  {
   "cell_type": "code",
   "execution_count": 12,
   "metadata": {
    "collapsed": false
   },
   "outputs": [
    {
     "name": "stdout",
     "output_type": "stream",
     "text": [
      "Now in Forward mode!\n"
     ]
    },
    {
     "data": {
      "text/plain": "([26.55143034070856, 28.928520836211327, 27.771659918016052],\n [-1.7043352568276104, -0.1268805219210355, 3.6788289104722476])"
     },
     "execution_count": 12,
     "metadata": {},
     "output_type": "execute_result"
    }
   ],
   "source": [
    "# create a complex function f = sin(4x) + cosh(4y) + log_3 (x*y)\n",
    "x, y = Variable('x'), Variable('y')\n",
    "f = Expression.sin(x * 4) + Expression.cosh(y * 4) + Expression.log_base(x * y,3)\n",
    "f_val, f_deriv = f({'x': [1,2,3], 'y': 1 }, seed = {'x':[1,1,1], 'y':0})\n",
    "f_val, f_deriv"
   ]
  },
  {
   "cell_type": "code",
   "execution_count": 13,
   "metadata": {
    "collapsed": false
   },
   "outputs": [
    {
     "data": {
      "text/plain": "(array([26.55143034, 28.92852084, 27.77165992]),\n {'x': array([-1.70433526, -0.12688052,  3.67882891]),\n  'y': array([110.06990802, 110.06990802, 110.06990802])})"
     },
     "execution_count": 13,
     "metadata": {},
     "output_type": "execute_result"
    }
   ],
   "source": [
    "x, y = Variable('x', mode = 'r'), Variable('y', mode = 'r')\n",
    "f = Expression.sin(x * 4) + Expression.cosh(y * 4) + Expression.log_base(x * y,3)\n",
    "f_val, f_deriv = f({'x': [1,2,3], 'y': 1})\n",
    "f_val, f_deriv"
   ]
  },
  {
   "cell_type": "code",
   "execution_count": null,
   "metadata": {
    "pycharm": {
     "is_executing": true
    }
   },
   "outputs": [],
   "source": []
  },
  {
   "cell_type": "code",
   "execution_count": 13,
   "outputs": [],
   "source": [],
   "metadata": {
    "collapsed": false
   }
  }
 ],
 "metadata": {
  "kernelspec": {
   "display_name": "Python 3.10.6 64-bit",
   "language": "python",
   "name": "python3"
  },
  "language_info": {
   "codemirror_mode": {
    "name": "ipython",
    "version": 3
   },
   "file_extension": ".py",
   "mimetype": "text/x-python",
   "name": "python",
   "nbconvert_exporter": "python",
   "pygments_lexer": "ipython3",
   "version": "3.10.6"
  },
  "vscode": {
   "interpreter": {
    "hash": "aee8b7b246df8f9039afb4144a1f6fd8d2ca17a180786b69acc140d282b71a49"
   }
  }
 },
 "nbformat": 4,
 "nbformat_minor": 4
}
