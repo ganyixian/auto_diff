{
 "cells": [
  {
   "cell_type": "code",
   "execution_count": 1,
   "metadata": {},
   "outputs": [
    {
     "name": "stdout",
     "output_type": "stream",
     "text": [
      "Found existing installation: auto-diff 0.0.0\r\n",
      "Uninstalling auto-diff-0.0.0:\r\n",
      "  Successfully uninstalled auto-diff-0.0.0\r\n"
     ]
    }
   ],
   "source": [
    "!python -m pip uninstall -y auto_diff"
   ]
  },
  {
   "cell_type": "code",
   "execution_count": 34,
   "metadata": {},
   "outputs": [
    {
     "name": "stdout",
     "output_type": "stream",
     "text": [
      "\u001B[31mError:\u001B[0m python not installed\r\n"
     ]
    }
   ],
   "source": [
    "# !brew upgrade python"
   ]
  },
  {
   "cell_type": "code",
   "execution_count": 10,
   "outputs": [
    {
     "name": "stdout",
     "output_type": "stream",
     "text": [
      "Python 3.10.6\r\n"
     ]
    }
   ],
   "source": [
    "# !python3 --version"
   ],
   "metadata": {
    "collapsed": false
   }
  },
  {
   "cell_type": "code",
   "execution_count": 2,
   "metadata": {},
   "outputs": [
    {
     "name": "stdout",
     "output_type": "stream",
     "text": [
      "Processing /Users/enoch/Desktop/cs107/team04\r\n",
      "  Installing build dependencies ... \u001B[?25ldone\r\n",
      "\u001B[?25h  Getting requirements to build wheel ... \u001B[?25ldone\r\n",
      "\u001B[?25h  Preparing metadata (pyproject.toml) ... \u001B[?25ldone\r\n",
      "\u001B[?25hBuilding wheels for collected packages: auto-diff\r\n",
      "  Building wheel for auto-diff (pyproject.toml) ... \u001B[?25ldone\r\n",
      "\u001B[?25h  Created wheel for auto-diff: filename=auto_diff-0.0.0-py3-none-any.whl size=8573 sha256=6a6d72bee7730f7d2ce9dcafd03631dec62234037930fe16d570ecb64a599189\r\n",
      "  Stored in directory: /private/var/folders/ql/mx708dq96gb4r0mznq715pxm0000gn/T/pip-ephem-wheel-cache-xqllabno/wheels/91/f0/c1/fb302961760cb4bd04ffecc90746c01f2e1b8d59fe2f944346\r\n",
      "Successfully built auto-diff\r\n",
      "Installing collected packages: auto-diff\r\n",
      "Successfully installed auto-diff-0.0.0\r\n"
     ]
    }
   ],
   "source": [
    "!python3 -m pip install ."
   ]
  },
  {
   "cell_type": "code",
   "execution_count": 67,
   "metadata": {},
   "outputs": [],
   "source": [
    "# !python -m pip install auto_diff_team04_2022"
   ]
  },
  {
   "cell_type": "code",
   "execution_count": 9,
   "metadata": {},
   "outputs": [],
   "source": [
    "import auto_diff\n",
    "import numpy as np"
   ]
  },
  {
   "cell_type": "code",
   "execution_count": 18,
   "metadata": {},
   "outputs": [],
   "source": [
    "from auto_diff import Variable, Expression\n",
    "from auto_diff.expression import ops"
   ]
  },
  {
   "cell_type": "code",
   "execution_count": 2,
   "metadata": {},
   "outputs": [],
   "source": [
    "#Create x, y variable\n",
    "x, y = Variable('x'), Variable('y')"
   ]
  },
  {
   "cell_type": "code",
   "execution_count": 4,
   "metadata": {},
   "outputs": [],
   "source": [
    "#create a simple function f = x + y \n",
    "f = (x + y)**y"
   ]
  },
  {
   "cell_type": "code",
   "execution_count": 5,
   "metadata": {},
   "outputs": [
    {
     "name": "stdout",
     "output_type": "stream",
     "text": [
      "Now in Forward mode!\n"
     ]
    },
    {
     "data": {
      "text/plain": "([9], {'y': [15.88751059801299], 'x': [6.0]})"
     },
     "execution_count": 5,
     "metadata": {},
     "output_type": "execute_result"
    }
   ],
   "source": [
    "#Since the seed is not specified. Our function will return the value of f \n",
    "#the partial derivative with respect to x, and evaluated at x = 1, \n",
    "#the partial derivative with respect to y, and evaluated at y = 2 \n",
    "f_val, f_deriv = f({'x':1, 'y':2}) \n",
    "f_val, f_deriv"
   ]
  },
  {
   "cell_type": "code",
   "execution_count": 41,
   "metadata": {},
   "outputs": [
    {
     "name": "stdout",
     "output_type": "stream",
     "text": [
      "Now in Forward mode!\n"
     ]
    },
    {
     "data": {
      "text/plain": "([6.486753569814109, 55.442008245959, 402.74672054092605],\n [15.595160826843975, 213.85316701084895, 2016.561950312112])"
     },
     "execution_count": 41,
     "metadata": {},
     "output_type": "execute_result"
    }
   ],
   "source": [
    "# create a complex function f = sin(4x) + cos(4y) + exp(x*y)\n",
    "f = Expression.sin(x * 4) + Expression.cos(y * 4) + Expression.exp(x * y)  \n",
    "\n",
    "f_val, f_deriv = f({'x': np.array([1,2,3]), 'y': 2}, seed={'x':np.array([1,1,1]), 'y':1})   # return the value of f and the derivative in the direction of seed at x = 1, y = 1.\n",
    "f_val, f_deriv"
   ]
  },
  {
   "cell_type": "code",
   "execution_count": 28,
   "outputs": [
    {
     "data": {
      "text/plain": "[6.486753569814109]"
     },
     "execution_count": 28,
     "metadata": {},
     "output_type": "execute_result"
    }
   ],
   "source": [
    "f_val"
   ],
   "metadata": {
    "collapsed": false
   }
  },
  {
   "cell_type": "code",
   "execution_count": 21,
   "metadata": {},
   "outputs": [
    {
     "data": {
      "text/plain": "(1.0838386658856722, {'x': 2.082151450673723, 'y': 2.125780866619572})"
     },
     "execution_count": 21,
     "metadata": {},
     "output_type": "execute_result"
    }
   ],
   "source": [
    "from auto_diff import Variable, Expression\n",
    "x, y = Variable('x',mode = 'r'), Variable('y', mode = 'r')\n",
    "# f = Expression.sin(x * 4) + Expression.cos(y * 4)        # create a function f = sin(4x) + cos(4y)\n",
    "f = (x + y)**y\n",
    "# f = f + Expression.exp(x * y)             # f = sin(4x) + cos(4y) + e^(xy)\n",
    "f_val, f_deriv = f({'x': ops._sin(5), 'y': 2})   # return the value of f and the derivative in the direction of seed at x = 1, y = 1.\n",
    "f_val, f_deriv"
   ]
  },
  {
   "cell_type": "code",
   "execution_count": 24,
   "metadata": {},
   "outputs": [
    {
     "data": {
      "text/plain": "(1.0838386658856722, {'x': 2.082151450673723, 'y': 2.125780866619572})"
     },
     "execution_count": 24,
     "metadata": {},
     "output_type": "execute_result"
    }
   ],
   "source": [
    "_val, f_deriv = f({'x': np.sin(5) ,'y': 2})\n",
    "f_val, f_deriv"
   ]
  },
  {
   "cell_type": "code",
   "execution_count": 21,
   "metadata": {},
   "outputs": [],
   "source": []
  },
  {
   "cell_type": "code",
   "execution_count": null,
   "metadata": {},
   "outputs": [],
   "source": []
  }
 ],
 "metadata": {
  "kernelspec": {
   "display_name": "Python 3",
   "language": "python",
   "name": "python3"
  },
  "language_info": {
   "codemirror_mode": {
    "name": "ipython",
    "version": 3
   },
   "file_extension": ".py",
   "mimetype": "text/x-python",
   "name": "python",
   "nbconvert_exporter": "python",
   "pygments_lexer": "ipython3",
   "version": "3.7.6"
  }
 },
 "nbformat": 4,
 "nbformat_minor": 4
}
