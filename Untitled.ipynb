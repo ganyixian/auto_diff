{
 "cells": [
  {
   "cell_type": "code",
   "execution_count": 1,
   "metadata": {},
   "outputs": [
    {
     "name": "stdout",
     "output_type": "stream",
     "text": [
      "Found existing installation: auto-diff 0.0.0\r\n",
      "Uninstalling auto-diff-0.0.0:\r\n",
      "  Successfully uninstalled auto-diff-0.0.0\r\n"
     ]
    }
   ],
   "source": [
    "!python -m pip uninstall -y auto_diff"
   ]
  },
  {
   "cell_type": "code",
   "execution_count": 2,
   "metadata": {},
   "outputs": [
    {
     "name": "stdout",
     "output_type": "stream",
     "text": [
      "Processing /Users/enoch/Desktop/cs107/team04\n",
      "  Installing build dependencies ... \u001b[?25ldone\n",
      "\u001b[?25h  Getting requirements to build wheel ... \u001b[?25ldone\n",
      "\u001b[?25h  Preparing metadata (pyproject.toml) ... \u001b[?25ldone\n",
      "\u001b[?25hBuilding wheels for collected packages: auto-diff\n",
      "  Building wheel for auto-diff (pyproject.toml) ... \u001b[?25ldone\n",
      "\u001b[?25h  Created wheel for auto-diff: filename=auto_diff-0.0.0-py3-none-any.whl size=8763 sha256=df812d3096355d2829945a6847b53467c9fd273a7c58e454257b9f2b0c57dfcd\n",
      "  Stored in directory: /private/var/folders/ql/mx708dq96gb4r0mznq715pxm0000gn/T/pip-ephem-wheel-cache-9tts3ngl/wheels/48/d6/18/a915b63f6581ea77416a5a461867be9abe13a7684e0489fa64\n",
      "Successfully built auto-diff\n",
      "Installing collected packages: auto-diff\n",
      "Successfully installed auto-diff-0.0.0\n"
     ]
    }
   ],
   "source": [
    "!python -m pip install ."
   ]
  },
  {
   "cell_type": "code",
   "execution_count": null,
   "metadata": {},
   "outputs": [],
   "source": [
    "!python -m pip install auto_diff_team04_2022"
   ]
  },
  {
   "cell_type": "code",
   "execution_count": 3,
   "metadata": {},
   "outputs": [],
   "source": [
    "import auto_diff"
   ]
  },
  {
   "cell_type": "code",
   "execution_count": 4,
   "metadata": {},
   "outputs": [],
   "source": [
    "from auto_diff import Variable, Expression\n"
   ]
  },
  {
   "cell_type": "code",
   "execution_count": 5,
   "metadata": {},
   "outputs": [
    {
     "name": "stdout",
     "output_type": "stream",
     "text": [
      "Now in Forward mode!\n"
     ]
    },
    {
     "data": {
      "text/plain": [
       "([3], {'y': [1], 'x': [1]})"
      ]
     },
     "execution_count": 5,
     "metadata": {},
     "output_type": "execute_result"
    }
   ],
   "source": [
    "x, y = Variable('x'), Variable('y')\n",
    "f = x + y #create a function f = x + y \n",
    "f_val, f_deriv = f({'x':1, 'y':2}) #return the value of f and the partial derivative at x = 1, y = 2 since the seed is not specified.\n",
    "f_val, f_deriv"
   ]
  },
  {
   "cell_type": "code",
   "execution_count": 6,
   "metadata": {},
   "outputs": [
    {
     "name": "stdout",
     "output_type": "stream",
     "text": [
      "Now in Forward mode!\n"
     ]
    },
    {
     "data": {
      "text/plain": [
       "([6.486753569814109], [12.163537714406853])"
      ]
     },
     "execution_count": 6,
     "metadata": {},
     "output_type": "execute_result"
    }
   ],
   "source": [
    "x, y = Variable('x'), Variable('y')\n",
    "f = Expression.sin(x * 4) + Expression.cos(y * 4)        # create a function f = sin(4x) + cos(4y)\n",
    "f = f + Expression.exp(x * y)             # f = sin(4x) + cos(4y) + e^(xy)\n",
    "f_val, f_deriv = f({'x': 1, 'y': 2}, seed={'x':1, 'y':0})   # return the value of f and the derivative in the direction of seed at x = 1, y = 1.\n",
    "f_val, f_deriv"
   ]
  },
  {
   "cell_type": "code",
   "execution_count": 18,
   "metadata": {},
   "outputs": [
    {
     "name": "stdout",
     "output_type": "stream",
     "text": [
      "Now in Forward mode!\n"
     ]
    },
    {
     "data": {
      "text/plain": [
       "([6.486753569814109, 55.442008245959, 402.74672054092605],\n",
       " [12.163537714406853, 108.61429993105402, 810.2330028204002])"
      ]
     },
     "execution_count": 18,
     "metadata": {},
     "output_type": "execute_result"
    }
   ],
   "source": [
    "from auto_diff import Variable, Expression\n",
    "x, y = Variable('x'), Variable('y')\n",
    "f = Expression.sin(x * 4) + Expression.cos(y * 4)        # create a function f = sin(4x) + cos(4y)\n",
    "f = f + Expression.exp(x * y)             # f = sin(4x) + cos(4y) + e^(xy)\n",
    "f_val, f_deriv = f({'x': [1,2,3], 'y': 2}, seed={'x':[1,1,1], 'y':0})   # return the value of f and the derivative in the direction of seed at x = 1, y = 1.\n",
    "f_val, f_deriv"
   ]
  },
  {
   "cell_type": "code",
   "execution_count": null,
   "metadata": {},
   "outputs": [],
   "source": []
  },
  {
   "cell_type": "code",
   "execution_count": null,
   "metadata": {},
   "outputs": [],
   "source": []
  },
  {
   "cell_type": "code",
   "execution_count": null,
   "metadata": {},
   "outputs": [],
   "source": []
  }
 ],
 "metadata": {
  "kernelspec": {
   "display_name": "Python 3",
   "language": "python",
   "name": "python3"
  },
  "language_info": {
   "codemirror_mode": {
    "name": "ipython",
    "version": 3
   },
   "file_extension": ".py",
   "mimetype": "text/x-python",
   "name": "python",
   "nbconvert_exporter": "python",
   "pygments_lexer": "ipython3",
   "version": "3.7.6"
  }
 },
 "nbformat": 4,
 "nbformat_minor": 4
}
