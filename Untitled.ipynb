{
 "cells": [
  {
   "cell_type": "code",
   "execution_count": 1,
   "metadata": {},
   "outputs": [
    {
     "name": "stdout",
     "output_type": "stream",
     "text": [
      "Found existing installation: auto-diff 0.0.0\r\n",
      "Uninstalling auto-diff-0.0.0:\r\n",
      "  Successfully uninstalled auto-diff-0.0.0\r\n"
     ]
    }
   ],
   "source": [
    "!python -m pip uninstall -y auto_diff"
   ]
  },
  {
   "cell_type": "code",
   "execution_count": 34,
   "metadata": {},
   "outputs": [
    {
     "name": "stdout",
     "output_type": "stream",
     "text": [
      "\u001B[31mError:\u001B[0m python not installed\r\n"
     ]
    }
   ],
   "source": [
    "# !brew upgrade python"
   ]
  },
  {
   "cell_type": "code",
   "execution_count": 10,
   "outputs": [
    {
     "name": "stdout",
     "output_type": "stream",
     "text": [
      "Python 3.10.6\r\n"
     ]
    }
   ],
   "source": [
    "# !python3 --version"
   ],
   "metadata": {
    "collapsed": false
   }
  },
  {
   "cell_type": "code",
   "execution_count": 2,
   "metadata": {},
   "outputs": [
    {
     "name": "stdout",
     "output_type": "stream",
     "text": [
      "Processing /Users/enoch/Desktop/cs107/team04\r\n",
      "  Installing build dependencies ... \u001B[?25ldone\r\n",
      "\u001B[?25h  Getting requirements to build wheel ... \u001B[?25ldone\r\n",
      "\u001B[?25h  Preparing metadata (pyproject.toml) ... \u001B[?25ldone\r\n",
      "\u001B[?25hBuilding wheels for collected packages: auto-diff\r\n",
      "  Building wheel for auto-diff (pyproject.toml) ... \u001B[?25ldone\r\n",
      "\u001B[?25h  Created wheel for auto-diff: filename=auto_diff-0.0.0-py3-none-any.whl size=9546 sha256=3a349094b09ecc170a87b33038a69483e6c0b8f47125febe5beb533247399fae\r\n",
      "  Stored in directory: /private/var/folders/ql/mx708dq96gb4r0mznq715pxm0000gn/T/pip-ephem-wheel-cache-f2azku0s/wheels/91/f0/c1/fb302961760cb4bd04ffecc90746c01f2e1b8d59fe2f944346\r\n",
      "Successfully built auto-diff\r\n",
      "Installing collected packages: auto-diff\r\n",
      "Successfully installed auto-diff-0.0.0\r\n"
     ]
    }
   ],
   "source": [
    "!python3 -m pip install ."
   ]
  },
  {
   "cell_type": "code",
   "execution_count": 67,
   "metadata": {},
   "outputs": [],
   "source": [
    "# !python -m pip install auto_diff_team04_2022"
   ]
  },
  {
   "cell_type": "code",
   "execution_count": 8,
   "metadata": {},
   "outputs": [],
   "source": [
    "import auto_diff\n",
    "import numpy as np"
   ]
  },
  {
   "cell_type": "code",
   "execution_count": 3,
   "metadata": {},
   "outputs": [],
   "source": [
    "from auto_diff import Variable, Expression"
   ]
  },
  {
   "cell_type": "code",
   "execution_count": 38,
   "metadata": {},
   "outputs": [
    {
     "name": "stdout",
     "output_type": "stream",
     "text": [
      "Now in Forward mode!\n"
     ]
    },
    {
     "data": {
      "text/plain": "([[10.175201193643801, 44.15127031327454, 4077.907114471762]],\n {'y': [[15.88751059801299, 30.18070977791825, 50.23594781085251]],\n  'x': [[10.328831138749711, 0.0, 0.0],\n   [0.0, 117.85426627862556, 0.0],\n   [0.0, 0.0, 24319.66637624527]]})"
     },
     "execution_count": 38,
     "metadata": {},
     "output_type": "execute_result"
    }
   ],
   "source": [
    "#Create x, y variable\n",
    "x, y = Variable('x'), Variable('y')\n",
    "f = (x + y)**y + Expression.sinh(x**2) + Expression.log_base(x**2,5)\n",
    "f_val, f_deriv = f({'x':[1,2,3], 'y':2})\n",
    "f_val, f_deriv"
   ]
  },
  {
   "cell_type": "code",
   "execution_count": 39,
   "outputs": [
    {
     "ename": "UFuncTypeError",
     "evalue": "Cannot cast ufunc 'add' output from dtype('float64') to dtype('int64') with casting rule 'same_kind'",
     "output_type": "error",
     "traceback": [
      "\u001B[0;31m---------------------------------------------------------------------------\u001B[0m",
      "\u001B[0;31mUFuncTypeError\u001B[0m                            Traceback (most recent call last)",
      "Cell \u001B[0;32mIn[39], line 3\u001B[0m\n\u001B[1;32m      1\u001B[0m x, y \u001B[38;5;241m=\u001B[39m Variable(\u001B[38;5;124m'\u001B[39m\u001B[38;5;124mx\u001B[39m\u001B[38;5;124m'\u001B[39m, mode \u001B[38;5;241m=\u001B[39m \u001B[38;5;124m'\u001B[39m\u001B[38;5;124mr\u001B[39m\u001B[38;5;124m'\u001B[39m), Variable(\u001B[38;5;124m'\u001B[39m\u001B[38;5;124my\u001B[39m\u001B[38;5;124m'\u001B[39m, mode \u001B[38;5;241m=\u001B[39m \u001B[38;5;124m'\u001B[39m\u001B[38;5;124mr\u001B[39m\u001B[38;5;124m'\u001B[39m)\n\u001B[1;32m      2\u001B[0m f \u001B[38;5;241m=\u001B[39m (x \u001B[38;5;241m+\u001B[39m y)\u001B[38;5;241m*\u001B[39m\u001B[38;5;241m*\u001B[39my \u001B[38;5;241m+\u001B[39m Expression\u001B[38;5;241m.\u001B[39msinh(x\u001B[38;5;241m*\u001B[39m\u001B[38;5;241m*\u001B[39m\u001B[38;5;241m2\u001B[39m) \u001B[38;5;241m+\u001B[39m Expression\u001B[38;5;241m.\u001B[39mlog_base(x\u001B[38;5;241m*\u001B[39m\u001B[38;5;241m*\u001B[39m\u001B[38;5;241m2\u001B[39m,\u001B[38;5;241m5\u001B[39m)\n\u001B[0;32m----> 3\u001B[0m f_val, f_deriv \u001B[38;5;241m=\u001B[39m \u001B[43mf\u001B[49m\u001B[43m(\u001B[49m\u001B[43m{\u001B[49m\u001B[38;5;124;43m'\u001B[39;49m\u001B[38;5;124;43mx\u001B[39;49m\u001B[38;5;124;43m'\u001B[39;49m\u001B[43m:\u001B[49m\u001B[43mnp\u001B[49m\u001B[38;5;241;43m.\u001B[39;49m\u001B[43marray\u001B[49m\u001B[43m(\u001B[49m\u001B[43m[\u001B[49m\u001B[38;5;241;43m1\u001B[39;49m\u001B[43m,\u001B[49m\u001B[38;5;241;43m2\u001B[39;49m\u001B[43m,\u001B[49m\u001B[38;5;241;43m3\u001B[39;49m\u001B[43m]\u001B[49m\u001B[43m)\u001B[49m\u001B[43m,\u001B[49m\u001B[43m \u001B[49m\u001B[38;5;124;43m'\u001B[39;49m\u001B[38;5;124;43my\u001B[39;49m\u001B[38;5;124;43m'\u001B[39;49m\u001B[43m:\u001B[49m\u001B[38;5;241;43m2\u001B[39;49m\u001B[43m}\u001B[49m\u001B[43m)\u001B[49m\n\u001B[1;32m      4\u001B[0m f_val, f_deriv\n",
      "File \u001B[0;32m~/Desktop/cs107/team04/venv/lib/python3.10/site-packages/auto_diff/expression/expression.py:137\u001B[0m, in \u001B[0;36mExpression.__call__\u001B[0;34m(self, inputs, seed, keep_graph)\u001B[0m\n\u001B[1;32m    135\u001B[0m \u001B[38;5;28;01melse\u001B[39;00m:\n\u001B[1;32m    136\u001B[0m     y \u001B[38;5;241m=\u001B[39m \u001B[38;5;28mself\u001B[39m\u001B[38;5;241m.\u001B[39mpropagate(inputs)\n\u001B[0;32m--> 137\u001B[0m     grad \u001B[38;5;241m=\u001B[39m \u001B[38;5;28;43mself\u001B[39;49m\u001B[38;5;241;43m.\u001B[39;49m\u001B[43mbackward\u001B[49m\u001B[43m(\u001B[49m\u001B[43m)\u001B[49m\n\u001B[1;32m    138\u001B[0m     \u001B[38;5;28;01mif\u001B[39;00m \u001B[38;5;129;01mnot\u001B[39;00m keep_graph:\n\u001B[1;32m    139\u001B[0m         \u001B[38;5;28mself\u001B[39m\u001B[38;5;241m.\u001B[39mclear()\n",
      "File \u001B[0;32m~/Desktop/cs107/team04/venv/lib/python3.10/site-packages/auto_diff/expression/expression.py:378\u001B[0m, in \u001B[0;36mFunction.backward\u001B[0;34m(self)\u001B[0m\n\u001B[1;32m    376\u001B[0m res \u001B[38;5;241m=\u001B[39m {}\n\u001B[1;32m    377\u001B[0m \u001B[38;5;28;01mif\u001B[39;00m \u001B[38;5;28mself\u001B[39m\u001B[38;5;241m.\u001B[39mnode\u001B[38;5;241m.\u001B[39mcompute():\n\u001B[0;32m--> 378\u001B[0m     res \u001B[38;5;241m=\u001B[39m res \u001B[38;5;241m|\u001B[39m (\u001B[38;5;28;43mself\u001B[39;49m\u001B[38;5;241;43m.\u001B[39;49m\u001B[43me1\u001B[49m\u001B[38;5;241;43m.\u001B[39;49m\u001B[43mbackward\u001B[49m\u001B[43m(\u001B[49m\u001B[43m)\u001B[49m)\n\u001B[1;32m    379\u001B[0m     \u001B[38;5;28;01mif\u001B[39;00m \u001B[38;5;28mself\u001B[39m\u001B[38;5;241m.\u001B[39me2 \u001B[38;5;129;01mis\u001B[39;00m \u001B[38;5;129;01mnot\u001B[39;00m \u001B[38;5;28;01mNone\u001B[39;00m:\n\u001B[1;32m    380\u001B[0m         res \u001B[38;5;241m=\u001B[39m res \u001B[38;5;241m|\u001B[39m \u001B[38;5;28mself\u001B[39m\u001B[38;5;241m.\u001B[39me2\u001B[38;5;241m.\u001B[39mbackward()\n",
      "File \u001B[0;32m~/Desktop/cs107/team04/venv/lib/python3.10/site-packages/auto_diff/expression/expression.py:380\u001B[0m, in \u001B[0;36mFunction.backward\u001B[0;34m(self)\u001B[0m\n\u001B[1;32m    378\u001B[0m     res \u001B[38;5;241m=\u001B[39m res \u001B[38;5;241m|\u001B[39m (\u001B[38;5;28mself\u001B[39m\u001B[38;5;241m.\u001B[39me1\u001B[38;5;241m.\u001B[39mbackward())\n\u001B[1;32m    379\u001B[0m     \u001B[38;5;28;01mif\u001B[39;00m \u001B[38;5;28mself\u001B[39m\u001B[38;5;241m.\u001B[39me2 \u001B[38;5;129;01mis\u001B[39;00m \u001B[38;5;129;01mnot\u001B[39;00m \u001B[38;5;28;01mNone\u001B[39;00m:\n\u001B[0;32m--> 380\u001B[0m         res \u001B[38;5;241m=\u001B[39m res \u001B[38;5;241m|\u001B[39m \u001B[38;5;28;43mself\u001B[39;49m\u001B[38;5;241;43m.\u001B[39;49m\u001B[43me2\u001B[49m\u001B[38;5;241;43m.\u001B[39;49m\u001B[43mbackward\u001B[49m\u001B[43m(\u001B[49m\u001B[43m)\u001B[49m\n\u001B[1;32m    381\u001B[0m \u001B[38;5;28;01mreturn\u001B[39;00m res\n",
      "File \u001B[0;32m~/Desktop/cs107/team04/venv/lib/python3.10/site-packages/auto_diff/expression/expression.py:378\u001B[0m, in \u001B[0;36mFunction.backward\u001B[0;34m(self)\u001B[0m\n\u001B[1;32m    376\u001B[0m res \u001B[38;5;241m=\u001B[39m {}\n\u001B[1;32m    377\u001B[0m \u001B[38;5;28;01mif\u001B[39;00m \u001B[38;5;28mself\u001B[39m\u001B[38;5;241m.\u001B[39mnode\u001B[38;5;241m.\u001B[39mcompute():\n\u001B[0;32m--> 378\u001B[0m     res \u001B[38;5;241m=\u001B[39m res \u001B[38;5;241m|\u001B[39m (\u001B[38;5;28;43mself\u001B[39;49m\u001B[38;5;241;43m.\u001B[39;49m\u001B[43me1\u001B[49m\u001B[38;5;241;43m.\u001B[39;49m\u001B[43mbackward\u001B[49m\u001B[43m(\u001B[49m\u001B[43m)\u001B[49m)\n\u001B[1;32m    379\u001B[0m     \u001B[38;5;28;01mif\u001B[39;00m \u001B[38;5;28mself\u001B[39m\u001B[38;5;241m.\u001B[39me2 \u001B[38;5;129;01mis\u001B[39;00m \u001B[38;5;129;01mnot\u001B[39;00m \u001B[38;5;28;01mNone\u001B[39;00m:\n\u001B[1;32m    380\u001B[0m         res \u001B[38;5;241m=\u001B[39m res \u001B[38;5;241m|\u001B[39m \u001B[38;5;28mself\u001B[39m\u001B[38;5;241m.\u001B[39me2\u001B[38;5;241m.\u001B[39mbackward()\n",
      "File \u001B[0;32m~/Desktop/cs107/team04/venv/lib/python3.10/site-packages/auto_diff/expression/expression.py:377\u001B[0m, in \u001B[0;36mFunction.backward\u001B[0;34m(self)\u001B[0m\n\u001B[1;32m    372\u001B[0m \u001B[38;5;124;03m\"\"\"\u001B[39;00m\n\u001B[1;32m    373\u001B[0m \n\u001B[1;32m    374\u001B[0m \u001B[38;5;124;03m:return:\u001B[39;00m\n\u001B[1;32m    375\u001B[0m \u001B[38;5;124;03m\"\"\"\u001B[39;00m\n\u001B[1;32m    376\u001B[0m res \u001B[38;5;241m=\u001B[39m {}\n\u001B[0;32m--> 377\u001B[0m \u001B[38;5;28;01mif\u001B[39;00m \u001B[38;5;28;43mself\u001B[39;49m\u001B[38;5;241;43m.\u001B[39;49m\u001B[43mnode\u001B[49m\u001B[38;5;241;43m.\u001B[39;49m\u001B[43mcompute\u001B[49m\u001B[43m(\u001B[49m\u001B[43m)\u001B[49m:\n\u001B[1;32m    378\u001B[0m     res \u001B[38;5;241m=\u001B[39m res \u001B[38;5;241m|\u001B[39m (\u001B[38;5;28mself\u001B[39m\u001B[38;5;241m.\u001B[39me1\u001B[38;5;241m.\u001B[39mbackward())\n\u001B[1;32m    379\u001B[0m     \u001B[38;5;28;01mif\u001B[39;00m \u001B[38;5;28mself\u001B[39m\u001B[38;5;241m.\u001B[39me2 \u001B[38;5;129;01mis\u001B[39;00m \u001B[38;5;129;01mnot\u001B[39;00m \u001B[38;5;28;01mNone\u001B[39;00m:\n",
      "File \u001B[0;32m~/Desktop/cs107/team04/venv/lib/python3.10/site-packages/auto_diff/expression/node.py:61\u001B[0m, in \u001B[0;36mNode.compute\u001B[0;34m(self)\u001B[0m\n\u001B[1;32m     59\u001B[0m         \u001B[38;5;28mself\u001B[39m\u001B[38;5;241m.\u001B[39madjoint \u001B[38;5;241m=\u001B[39mnp\u001B[38;5;241m.\u001B[39mones_like(\u001B[38;5;28mself\u001B[39m\u001B[38;5;241m.\u001B[39mpartial_val[\u001B[38;5;241m0\u001B[39m])\n\u001B[1;32m     60\u001B[0m     \u001B[38;5;28;01mfor\u001B[39;00m p, dp \u001B[38;5;129;01min\u001B[39;00m \u001B[38;5;28mzip\u001B[39m(\u001B[38;5;28mself\u001B[39m\u001B[38;5;241m.\u001B[39mparent, \u001B[38;5;28mself\u001B[39m\u001B[38;5;241m.\u001B[39mpartial_val):\n\u001B[0;32m---> 61\u001B[0m         \u001B[43mp\u001B[49m\u001B[38;5;241;43m.\u001B[39;49m\u001B[43mnotify\u001B[49m\u001B[43m(\u001B[49m\u001B[38;5;28;43mself\u001B[39;49m\u001B[38;5;241;43m.\u001B[39;49m\u001B[43mid\u001B[49m\u001B[43m,\u001B[49m\u001B[43m \u001B[49m\u001B[43mdp\u001B[49m\u001B[43m \u001B[49m\u001B[38;5;241;43m*\u001B[39;49m\u001B[43m \u001B[49m\u001B[38;5;28;43mself\u001B[39;49m\u001B[38;5;241;43m.\u001B[39;49m\u001B[43madjoint\u001B[49m\u001B[43m)\u001B[49m\n\u001B[1;32m     62\u001B[0m     \u001B[38;5;28;01mreturn\u001B[39;00m \u001B[38;5;28;01mTrue\u001B[39;00m\n\u001B[1;32m     63\u001B[0m \u001B[38;5;28;01melse\u001B[39;00m:\n",
      "File \u001B[0;32m~/Desktop/cs107/team04/venv/lib/python3.10/site-packages/auto_diff/expression/node.py:49\u001B[0m, in \u001B[0;36mNode.notify\u001B[0;34m(self, id, val)\u001B[0m\n\u001B[1;32m     47\u001B[0m     \u001B[38;5;28mself\u001B[39m\u001B[38;5;241m.\u001B[39madjoint \u001B[38;5;241m=\u001B[39m val\n\u001B[1;32m     48\u001B[0m \u001B[38;5;28;01melse\u001B[39;00m:\n\u001B[0;32m---> 49\u001B[0m     \u001B[38;5;28mself\u001B[39m\u001B[38;5;241m.\u001B[39madjoint \u001B[38;5;241m+\u001B[39m\u001B[38;5;241m=\u001B[39m val\n\u001B[1;32m     50\u001B[0m \u001B[38;5;28mself\u001B[39m\u001B[38;5;241m.\u001B[39mreceived\u001B[38;5;241m.\u001B[39madd(\u001B[38;5;28mid\u001B[39m)\n",
      "\u001B[0;31mUFuncTypeError\u001B[0m: Cannot cast ufunc 'add' output from dtype('float64') to dtype('int64') with casting rule 'same_kind'"
     ]
    }
   ],
   "source": [
    "x, y = Variable('x', mode = 'r'), Variable('y', mode = 'r')\n",
    "f = (x + y)**y + Expression.sinh(x**2) + Expression.log_base(x**2,5)\n",
    "f_val, f_deriv = f({'x':np.array([1,2,3]), 'y':2})\n",
    "f_val, f_deriv"
   ],
   "metadata": {
    "collapsed": false
   }
  },
  {
   "cell_type": "code",
   "execution_count": 4,
   "metadata": {},
   "outputs": [],
   "source": [
    "#create a simple function f = x + y \n"
   ]
  },
  {
   "cell_type": "code",
   "execution_count": 5,
   "metadata": {},
   "outputs": [
    {
     "name": "stdout",
     "output_type": "stream",
     "text": [
      "Now in Forward mode!\n"
     ]
    },
    {
     "data": {
      "text/plain": "([9], {'y': [15.88751059801299], 'x': [6.0]})"
     },
     "execution_count": 5,
     "metadata": {},
     "output_type": "execute_result"
    }
   ],
   "source": [
    "#Since the seed is not specified. Our function will return the value of f \n",
    "#the partial derivative with respect to x, and evaluated at x = 1, \n",
    "#the partial derivative with respect to y, and evaluated at y = 2 \n",
    "f_val, f_deriv = f({'x':[1,2,3], 'y':2})\n",
    "f_val, f_deriv"
   ]
  },
  {
   "cell_type": "code",
   "execution_count": 34,
   "metadata": {},
   "outputs": [
    {
     "name": "stdout",
     "output_type": "stream",
     "text": [
      "Now in Forward mode!\n",
      "[6.486753569814109, 55.442008245959, 402.74672054092605]\n",
      "y: [3.4316231124371233, 105.23886707979494, 1206.3289474917117]\n",
      "Now in Forward mode!\n",
      "x: [12.163537714406853, 108.61429993105402, 810.2330028204002]\n"
     ]
    }
   ],
   "source": [
    "# create a complex function f = sin(4x) + cos(4y) + exp(x*y)\n",
    "x, y = Variable('x'), Variable('y')\n",
    "f = Expression.sin(x * 4) + Expression.cos(y * 4) + Expression.exp(x * y)\n",
    "f_val, f_deriv = f({'x': [1,2,3], 'y': 2}, seed={'x':[0,0,0], 'y':1})   # return the value of f and the derivative in the direction of seed at x = 1, y = 1.\n",
    "print(f\"{f_val}\")\n",
    "print(f\"y: {f_deriv}\")\n",
    "f_val, f_deriv = f({'x': [1,2,3], 'y': 2}, seed={'x':[1,1,1], 'y':0})\n",
    "print(f\"x: {f_deriv}\")"
   ]
  },
  {
   "cell_type": "code",
   "execution_count": 29,
   "outputs": [
    {
     "data": {
      "text/plain": "(array([  6.48675357,  55.44200825, 402.74672054]),\n {'x': array([ 12.16353771, 108.61429993, 810.23300282]),\n  'y': array([   3.43162311,  105.23886708, 1206.32894749])})"
     },
     "execution_count": 29,
     "metadata": {},
     "output_type": "execute_result"
    }
   ],
   "source": [
    "x, y = Variable('x', mode = 'r'), Variable('y', mode = 'r')\n",
    "f = Expression.sin(x * 4) + Expression.cos(y * 4) + Expression.exp(x * y)\n",
    "f_val, f_deriv = f({'x': np.array([1,2,3]), 'y': 2})   # return the value of f and the derivative in the direction of seed at x = 1, y = 1.\n",
    "f_val, f_deriv"
   ],
   "metadata": {
    "collapsed": false
   }
  },
  {
   "cell_type": "code",
   "execution_count": 21,
   "metadata": {},
   "outputs": [
    {
     "data": {
      "text/plain": "(1.0838386658856722, {'x': 2.082151450673723, 'y': 2.125780866619572})"
     },
     "execution_count": 21,
     "metadata": {},
     "output_type": "execute_result"
    }
   ],
   "source": [
    "x, y = Variable('x',mode = 'r'), Variable('y', mode = 'r')\n",
    "# f = Expression.sin(x * 4) + Expression.cos(y * 4)        # create a function f = sin(4x) + cos(4y)\n",
    "f = (x + y)**y\n",
    "# f = f + Expression.exp(x * y)             # f = sin(4x) + cos(4y) + e^(xy)\n",
    "f_val, f_deriv = f({'x': ops._sin(5), 'y': 2})   # return the value of f and the derivative in the direction of seed at x = 1, y = 1.\n",
    "f_val, f_deriv"
   ]
  },
  {
   "cell_type": "code",
   "execution_count": 24,
   "metadata": {},
   "outputs": [
    {
     "data": {
      "text/plain": "(1.0838386658856722, {'x': 2.082151450673723, 'y': 2.125780866619572})"
     },
     "execution_count": 24,
     "metadata": {},
     "output_type": "execute_result"
    }
   ],
   "source": [
    "_val, f_deriv = f({'x': np.sin(5) ,'y': 2})\n",
    "f_val, f_deriv"
   ]
  },
  {
   "cell_type": "code",
   "execution_count": 21,
   "metadata": {},
   "outputs": [],
   "source": []
  },
  {
   "cell_type": "code",
   "execution_count": null,
   "metadata": {},
   "outputs": [],
   "source": []
  }
 ],
 "metadata": {
  "kernelspec": {
   "display_name": "Python 3",
   "language": "python",
   "name": "python3"
  },
  "language_info": {
   "codemirror_mode": {
    "name": "ipython",
    "version": 3
   },
   "file_extension": ".py",
   "mimetype": "text/x-python",
   "name": "python",
   "nbconvert_exporter": "python",
   "pygments_lexer": "ipython3",
   "version": "3.7.6"
  }
 },
 "nbformat": 4,
 "nbformat_minor": 4
}
