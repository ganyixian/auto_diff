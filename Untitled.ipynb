{
 "cells": [
  {
   "cell_type": "code",
   "execution_count": 5,
   "metadata": {},
   "outputs": [
    {
     "name": "stdout",
     "output_type": "stream",
     "text": [
      "Found existing installation: auto-diff 0.0.0\r\n",
      "Uninstalling auto-diff-0.0.0:\r\n",
      "  Successfully uninstalled auto-diff-0.0.0\r\n"
     ]
    }
   ],
   "source": [
    "!python -m pip uninstall -y auto_diff"
   ]
  },
  {
   "cell_type": "code",
   "execution_count": 34,
   "metadata": {},
   "outputs": [
    {
     "name": "stdout",
     "output_type": "stream",
     "text": [
      "\u001B[31mError:\u001B[0m python not installed\r\n"
     ]
    }
   ],
   "source": [
    "!brew upgrade python"
   ]
  },
  {
   "cell_type": "code",
   "execution_count": 10,
   "metadata": {},
   "outputs": [
    {
     "name": "stdout",
     "output_type": "stream",
     "text": [
      "Python 3.10.6\r\n"
     ]
    }
   ],
   "source": [
    "!python3 --version"
   ]
  },
  {
   "cell_type": "code",
   "execution_count": 7,
   "metadata": {},
   "outputs": [
    {
     "name": "stdout",
     "output_type": "stream",
     "text": [
      "Processing /Users/enoch/Desktop/cs107/team04\n",
      "  Installing build dependencies ... \u001B[?25ldone\n",
      "\u001B[?25h  Getting requirements to build wheel ... \u001B[?25ldone\n",
      "\u001B[?25h  Preparing metadata (pyproject.toml) ... \u001B[?25ldone\n",
      "\u001B[?25hBuilding wheels for collected packages: auto-diff\n",
      "  Building wheel for auto-diff (pyproject.toml) ... \u001B[?25ldone\n",
      "\u001B[?25h  Created wheel for auto-diff: filename=auto_diff-0.0.0-py3-none-any.whl size=8763 sha256=40de5c224a476016975740861adc9ab98620597f07b979cbc1d4f6b994379db1\n",
      "  Stored in directory: /private/var/folders/ql/mx708dq96gb4r0mznq715pxm0000gn/T/pip-ephem-wheel-cache-bwyo18a0/wheels/91/f0/c1/fb302961760cb4bd04ffecc90746c01f2e1b8d59fe2f944346\n",
      "Successfully built auto-diff\n",
      "Installing collected packages: auto-diff\n",
      "  Attempting uninstall: auto-diff\n",
      "    Found existing installation: auto-diff 0.0.0\n",
      "    Uninstalling auto-diff-0.0.0:\n",
      "      Successfully uninstalled auto-diff-0.0.0\n",
      "Successfully installed auto-diff-0.0.0\n"
     ]
    }
   ],
   "source": [
    "!python3 -m pip install ."
   ]
  },
  {
   "cell_type": "code",
   "execution_count": null,
   "metadata": {},
   "outputs": [],
   "source": [
    "# !python -m pip install auto_diff_team04_2022"
   ]
  },
  {
   "cell_type": "code",
   "execution_count": 11,
   "metadata": {},
   "outputs": [],
   "source": [
    "import auto_diff\n",
    "import numpy as np"
   ]
  },
  {
   "cell_type": "code",
   "execution_count": 12,
   "metadata": {},
   "outputs": [],
   "source": [
    "from auto_diff import Variable, Expression"
   ]
  },
  {
   "cell_type": "code",
   "execution_count": 13,
   "metadata": {},
   "outputs": [],
   "source": [
    "#Create x, y variable\n",
    "x, y = Variable('x'), Variable('y')"
   ]
  },
  {
   "cell_type": "code",
   "execution_count": 14,
   "metadata": {},
   "outputs": [],
   "source": [
    "#create a simple function f = x + y \n",
    "f = x + y"
   ]
  },
  {
   "cell_type": "code",
   "execution_count": 15,
   "metadata": {},
   "outputs": [
    {
     "name": "stdout",
     "output_type": "stream",
     "text": [
      "Now in Forward mode!\n"
     ]
    },
    {
     "data": {
      "text/plain": [
       "([3], {'y': [1], 'x': [1]})"
      ]
     },
     "execution_count": 15,
     "metadata": {},
     "output_type": "execute_result"
    }
   ],
   "source": [
    "#Since the seed is not specified. Our function will return the value of f \n",
    "#the partial derivative with respect to x, and evaluated at x = 1, \n",
    "#the partial derivative with respect to y, and evaluated at y = 2 \n",
    "f_val, f_deriv = f({'x':1, 'y':2}) \n",
    "f_val, f_deriv"
   ]
  },
  {
   "cell_type": "code",
   "execution_count": 16,
   "metadata": {},
   "outputs": [
    {
     "name": "stdout",
     "output_type": "stream",
     "text": [
      "Now in Forward mode!\n"
     ]
    },
    {
     "data": {
      "text/plain": [
       "([6.486753569814109], [12.163537714406853])"
      ]
     },
     "execution_count": 16,
     "metadata": {},
     "output_type": "execute_result"
    }
   ],
   "source": [
    "# create a complex function f = sin(4x) + cos(4y) + exp(x*y)\n",
    "f = Expression.sin(x * 4) + Expression.cos(y * 4) + Expression.exp(x * y)  \n",
    "\n",
    "f_val, f_deriv = f({'x': 1, 'y': 2}, seed={'x':1, 'y':0})   # return the value of f and the derivative in the direction of seed at x = 1, y = 1.\n",
    "f_val, f_deriv"
   ]
  },
  {
   "cell_type": "code",
   "execution_count": 24,
   "metadata": {},
   "outputs": [
    {
     "ename": "TypeError",
     "evalue": "unsupported operand type(s) for |: 'dict' and 'dict'",
     "output_type": "error",
     "traceback": [
      "\u001B[0;31m---------------------------------------------------------------------------\u001B[0m",
      "\u001B[0;31mTypeError\u001B[0m                                 Traceback (most recent call last)",
      "\u001B[0;32m<ipython-input-24-478686dfa95b>\u001B[0m in \u001B[0;36m<module>\u001B[0;34m\u001B[0m\n\u001B[1;32m      3\u001B[0m \u001B[0mf\u001B[0m \u001B[0;34m=\u001B[0m \u001B[0mExpression\u001B[0m\u001B[0;34m.\u001B[0m\u001B[0msin\u001B[0m\u001B[0;34m(\u001B[0m\u001B[0mx\u001B[0m \u001B[0;34m*\u001B[0m \u001B[0;36m4\u001B[0m\u001B[0;34m)\u001B[0m \u001B[0;34m+\u001B[0m \u001B[0mExpression\u001B[0m\u001B[0;34m.\u001B[0m\u001B[0mcos\u001B[0m\u001B[0;34m(\u001B[0m\u001B[0my\u001B[0m \u001B[0;34m*\u001B[0m \u001B[0;36m4\u001B[0m\u001B[0;34m)\u001B[0m        \u001B[0;31m# create a function f = sin(4x) + cos(4y)\u001B[0m\u001B[0;34m\u001B[0m\u001B[0;34m\u001B[0m\u001B[0m\n\u001B[1;32m      4\u001B[0m \u001B[0mf\u001B[0m \u001B[0;34m=\u001B[0m \u001B[0mf\u001B[0m \u001B[0;34m+\u001B[0m \u001B[0mExpression\u001B[0m\u001B[0;34m.\u001B[0m\u001B[0mexp\u001B[0m\u001B[0;34m(\u001B[0m\u001B[0mx\u001B[0m \u001B[0;34m*\u001B[0m \u001B[0my\u001B[0m\u001B[0;34m)\u001B[0m             \u001B[0;31m# f = sin(4x) + cos(4y) + e^(xy)\u001B[0m\u001B[0;34m\u001B[0m\u001B[0;34m\u001B[0m\u001B[0m\n\u001B[0;32m----> 5\u001B[0;31m \u001B[0mf_val\u001B[0m\u001B[0;34m,\u001B[0m \u001B[0mf_deriv\u001B[0m \u001B[0;34m=\u001B[0m \u001B[0mf\u001B[0m\u001B[0;34m(\u001B[0m\u001B[0;34m{\u001B[0m\u001B[0;34m'x'\u001B[0m\u001B[0;34m:\u001B[0m \u001B[0mnp\u001B[0m\u001B[0;34m.\u001B[0m\u001B[0marray\u001B[0m\u001B[0;34m(\u001B[0m\u001B[0;34m[\u001B[0m\u001B[0;36m1\u001B[0m\u001B[0;34m,\u001B[0m\u001B[0;36m2\u001B[0m\u001B[0;34m,\u001B[0m\u001B[0;36m3\u001B[0m\u001B[0;34m]\u001B[0m\u001B[0;34m)\u001B[0m\u001B[0;34m,\u001B[0m \u001B[0;34m'y'\u001B[0m\u001B[0;34m:\u001B[0m \u001B[0;36m1\u001B[0m\u001B[0;34m}\u001B[0m\u001B[0;34m,\u001B[0m \u001B[0mseed\u001B[0m\u001B[0;34m=\u001B[0m\u001B[0;34m{\u001B[0m\u001B[0;34m'x'\u001B[0m\u001B[0;34m:\u001B[0m\u001B[0mnp\u001B[0m\u001B[0;34m.\u001B[0m\u001B[0marray\u001B[0m\u001B[0;34m(\u001B[0m\u001B[0;34m[\u001B[0m\u001B[0;36m1\u001B[0m\u001B[0;34m,\u001B[0m\u001B[0;36m1\u001B[0m\u001B[0;34m,\u001B[0m\u001B[0;36m1\u001B[0m\u001B[0;34m]\u001B[0m\u001B[0;34m)\u001B[0m\u001B[0;34m,\u001B[0m \u001B[0;34m'y'\u001B[0m\u001B[0;34m:\u001B[0m\u001B[0;36m0\u001B[0m\u001B[0;34m}\u001B[0m\u001B[0;34m)\u001B[0m   \u001B[0;31m# return the value of f and the derivative in the direction of seed at x = 1, y = 1.\u001B[0m\u001B[0;34m\u001B[0m\u001B[0;34m\u001B[0m\u001B[0m\n\u001B[0m\u001B[1;32m      6\u001B[0m \u001B[0mf_val\u001B[0m\u001B[0;34m,\u001B[0m \u001B[0mf_deriv\u001B[0m\u001B[0;34m\u001B[0m\u001B[0;34m\u001B[0m\u001B[0m\n",
      "\u001B[0;32m/opt/anaconda3/lib/python3.7/site-packages/auto_diff/expression/expression.py\u001B[0m in \u001B[0;36m__call__\u001B[0;34m(self, inputs, seed, keep_graph)\u001B[0m\n",
      "\u001B[0;32m/opt/anaconda3/lib/python3.7/site-packages/auto_diff/expression/expression.py\u001B[0m in \u001B[0;36mbackward\u001B[0;34m(self)\u001B[0m\n",
      "\u001B[0;32m/opt/anaconda3/lib/python3.7/site-packages/auto_diff/expression/expression.py\u001B[0m in \u001B[0;36mbackward\u001B[0;34m(self)\u001B[0m\n",
      "\u001B[0;32m/opt/anaconda3/lib/python3.7/site-packages/auto_diff/expression/expression.py\u001B[0m in \u001B[0;36mbackward\u001B[0;34m(self)\u001B[0m\n",
      "\u001B[0;32m/opt/anaconda3/lib/python3.7/site-packages/auto_diff/expression/expression.py\u001B[0m in \u001B[0;36mbackward\u001B[0;34m(self)\u001B[0m\n",
      "\u001B[0;31mTypeError\u001B[0m: unsupported operand type(s) for |: 'dict' and 'dict'"
     ]
    }
   ],
   "source": [
    "from auto_diff import Variable, Expression\n",
    "x, y = Variable('x',mode = 'r'), Variable('y', mode = 'r')\n",
    "f = Expression.sin(x * 4) + Expression.cos(y * 4)        # create a function f = sin(4x) + cos(4y)\n",
    "f = f + Expression.exp(x * y)             # f = sin(4x) + cos(4y) + e^(xy)\n",
    "f_val, f_deriv = f({'x': np.array([1,2,3]), 'y': 1}, seed={'x':np.array([1,1,1]), 'y':0})   # return the value of f and the derivative in the direction of seed at x = 1, y = 1.\n",
    "f_val, f_deriv"
   ]
  },
  {
   "cell_type": "code",
   "execution_count": null,
   "metadata": {},
   "outputs": [],
   "source": []
  },
  {
   "cell_type": "code",
   "execution_count": null,
   "metadata": {},
   "outputs": [],
   "source": []
  },
  {
   "cell_type": "code",
   "execution_count": null,
   "metadata": {},
   "outputs": [],
   "source": []
  }
 ],
 "metadata": {
  "kernelspec": {
   "display_name": "Python 3",
   "language": "python",
   "name": "python3"
  },
  "language_info": {
   "codemirror_mode": {
    "name": "ipython",
    "version": 3
   },
   "file_extension": ".py",
   "mimetype": "text/x-python",
   "name": "python",
   "nbconvert_exporter": "python",
   "pygments_lexer": "ipython3",
   "version": "3.7.6"
  }
 },
 "nbformat": 4,
 "nbformat_minor": 4
}
