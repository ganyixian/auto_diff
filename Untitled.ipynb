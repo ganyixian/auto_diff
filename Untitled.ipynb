{
 "cells": [
  {
   "cell_type": "code",
   "execution_count": 1,
   "outputs": [
    {
     "name": "stdout",
     "output_type": "stream",
     "text": [
      "Found existing installation: auto-diff 0.0.0\r\n",
      "Uninstalling auto-diff-0.0.0:\r\n",
      "  Successfully uninstalled auto-diff-0.0.0\r\n"
     ]
    }
   ],
   "source": [
    "!python -m pip uninstall -y auto_diff"
   ],
   "metadata": {
    "collapsed": false
   }
  },
  {
   "cell_type": "markdown",
   "source": [
    "## Before Use"
   ],
   "metadata": {
    "collapsed": false
   }
  },
  {
   "cell_type": "code",
   "execution_count": 2,
   "outputs": [
    {
     "name": "stdout",
     "output_type": "stream",
     "text": [
      "Python 3.10.6\r\n"
     ]
    }
   ],
   "source": [
    "!python3 --version"
   ],
   "metadata": {
    "collapsed": false
   }
  },
  {
   "cell_type": "code",
   "execution_count": 3,
   "outputs": [],
   "source": [
    "# !python -m pip install auto_diff_team04_2022"
   ],
   "metadata": {
    "collapsed": false
   }
  },
  {
   "cell_type": "code",
   "execution_count": 4,
   "outputs": [
    {
     "name": "stdout",
     "output_type": "stream",
     "text": [
      "Processing /Users/enoch/Desktop/cs107/team04\r\n",
      "  Installing build dependencies ... \u001B[?25ldone\r\n",
      "\u001B[?25h  Getting requirements to build wheel ... \u001B[?25ldone\r\n",
      "\u001B[?25h  Preparing metadata (pyproject.toml) ... \u001B[?25ldone\r\n",
      "\u001B[?25hBuilding wheels for collected packages: auto-diff\r\n",
      "  Building wheel for auto-diff (pyproject.toml) ... \u001B[?25ldone\r\n",
      "\u001B[?25h  Created wheel for auto-diff: filename=auto_diff-0.0.0-py3-none-any.whl size=9615 sha256=89268779173b586964610cbfb9aaac325c32e9329f3fe067e7d6e63a56d98697\r\n",
      "  Stored in directory: /private/var/folders/ql/mx708dq96gb4r0mznq715pxm0000gn/T/pip-ephem-wheel-cache-yxu6j3pb/wheels/91/f0/c1/fb302961760cb4bd04ffecc90746c01f2e1b8d59fe2f944346\r\n",
      "Successfully built auto-diff\r\n",
      "Installing collected packages: auto-diff\r\n",
      "Successfully installed auto-diff-0.0.0\r\n"
     ]
    }
   ],
   "source": [
    "# Also can run the following command to install the package\n",
    "!python3 -m pip install ."
   ],
   "metadata": {
    "collapsed": false
   }
  },
  {
   "cell_type": "markdown",
   "source": [
    "## Code Demo"
   ],
   "metadata": {
    "collapsed": false
   }
  },
  {
   "cell_type": "code",
   "execution_count": 5,
   "metadata": {},
   "outputs": [],
   "source": [
    "import numpy as np\n",
    "from auto_diff import Variable, Expression"
   ]
  },
  {
   "cell_type": "code",
   "execution_count": 30,
   "metadata": {},
   "outputs": [
    {
     "name": "stdout",
     "output_type": "stream",
     "text": [
      "Now in Forward mode!\n"
     ]
    },
    {
     "data": {
      "text/plain": "([[4.420000166674167, 4.88001067435399, 5.3801219450145945]],\n {'y': [[7.471943690256554, 8.216133624163069, 9.0060892603267]],\n  'x': [[4.400010000750063, 0.0, 0.0],\n   [0.0, 4.800320384512718, 0.0],\n   [0.0, 0.0, 5.202444862606609]]})"
     },
     "execution_count": 30,
     "metadata": {},
     "output_type": "execute_result"
    }
   ],
   "source": [
    "#Create x, y variable\n",
    "x, y = Variable('x'), Variable('y')\n",
    "f = (x + y)**y + Expression.arcsin(x**2)\n",
    "f_val, f_deriv = f({'x':[0.1,0.2,0.3], 'y':2})\n",
    "f_val, f_deriv"
   ]
  },
  {
   "cell_type": "code",
   "execution_count": 33,
   "outputs": [
    {
     "data": {
      "text/plain": "(array([4.42000017, 4.88001067, 5.38012195]),\n {'y': array([7.47194369, 8.21613362, 9.00608926]),\n  'x': array([4.40001   , 4.80032038, 5.20244486])})"
     },
     "execution_count": 33,
     "metadata": {},
     "output_type": "execute_result"
    }
   ],
   "source": [
    "x, y = Variable('x', mode = 'r'), Variable('y', mode = 'r')\n",
    "f = (x + y)**y + Expression.arcsin(x**2)\n",
    "f_val, f_deriv = f({'x':np.array([0.1,0.2,0.3]), 'y':2})\n",
    "f_val, f_deriv"
   ],
   "metadata": {
    "collapsed": false
   }
  },
  {
   "cell_type": "code",
   "execution_count": 4,
   "metadata": {},
   "outputs": [],
   "source": [
    "#create a simple function f = x + y \n"
   ]
  },
  {
   "cell_type": "code",
   "execution_count": 52,
   "metadata": {},
   "outputs": [
    {
     "name": "stdout",
     "output_type": "stream",
     "text": [
      "Now in Forward mode!\n"
     ]
    },
    {
     "data": {
      "text/plain": "([[6.486753569814109, 55.442008245959, 402.74672054092605]],\n {'y': [[3.4316231124371233, 105.23886707979494, 1206.3289474917117]],\n  'x': [[12.163537714406853, 0.0, 0.0],\n   [0.0, 108.61429993105402, 0.0],\n   [0.0, 0.0, 810.2330028204002]]})"
     },
     "execution_count": 52,
     "metadata": {},
     "output_type": "execute_result"
    }
   ],
   "source": [
    "#Since the seed is not specified. Our function will return the value of f \n",
    "#the partial derivative with respect to x, and evaluated at x = 1, \n",
    "#the partial derivative with respect to y, and evaluated at y = 2 \n",
    "f_val, f_deriv = f({'x':[1,2,3], 'y':2})\n",
    "f_val, f_deriv"
   ]
  },
  {
   "cell_type": "code",
   "execution_count": 8,
   "metadata": {},
   "outputs": [
    {
     "name": "stdout",
     "output_type": "stream",
     "text": [
      "Now in Forward mode!\n",
      "[6.486753569814109, 55.442008245959, 402.74672054092605]\n",
      "y: [3.4316231124371233, 105.23886707979494, 1206.3289474917117]\n",
      "Now in Forward mode!\n",
      "x: [12.163537714406853, 108.61429993105402, 810.2330028204002]\n"
     ]
    }
   ],
   "source": [
    "# create a complex function f = sin(4x) + cos(4y) + exp(x*y)\n",
    "x, y = Variable('x'), Variable('y')\n",
    "f = Expression.sin(x * 4) + Expression.cos(y * 4) + Expression.exp(x * y)\n",
    "f_val, f_deriv = f({'x': [1,2,3], 'y': 2}, seed={'x':[0,0,0], 'y':1})   # return the value of f and the derivative in the direction of seed at x = 1, y = 1.\n",
    "print(f\"{f_val}\")\n",
    "print(f\"y: {f_deriv}\")\n",
    "f_val, f_deriv = f({'x': [1,2,3], 'y': 2}, seed={'x':[1,1,1], 'y':0})\n",
    "print(f\"x: {f_deriv}\")"
   ]
  },
  {
   "cell_type": "code",
   "execution_count": 9,
   "outputs": [
    {
     "data": {
      "text/plain": "(array([  6.48675357,  55.44200825, 402.74672054]),\n {'x': array([ 12.16353771, 108.61429993, 810.23300282]),\n  'y': array([   3.43162311,  105.23886708, 1206.32894749])})"
     },
     "execution_count": 9,
     "metadata": {},
     "output_type": "execute_result"
    }
   ],
   "source": [
    "x, y = Variable('x', mode = 'r'), Variable('y', mode = 'r')\n",
    "f = Expression.sin(x * 4) + Expression.cos(y * 4) + Expression.exp(x * y)\n",
    "f_val, f_deriv = f({'x': np.array([1,2,3]), 'y': 2})   # return the value of f and the derivative in the direction of seed at x = 1, y = 1.\n",
    "f_val, f_deriv"
   ],
   "metadata": {
    "collapsed": false
   }
  },
  {
   "cell_type": "code",
   "execution_count": 21,
   "metadata": {},
   "outputs": [
    {
     "data": {
      "text/plain": "(1.0838386658856722, {'x': 2.082151450673723, 'y': 2.125780866619572})"
     },
     "execution_count": 21,
     "metadata": {},
     "output_type": "execute_result"
    }
   ],
   "source": [
    "x, y = Variable('x',mode = 'r'), Variable('y', mode = 'r')\n",
    "# f = Expression.sin(x * 4) + Expression.cos(y * 4)        # create a function f = sin(4x) + cos(4y)\n",
    "f = (x + y)**y\n",
    "# f = f + Expression.exp(x * y)             # f = sin(4x) + cos(4y) + e^(xy)\n",
    "f_val, f_deriv = f({'x': ops._sin(5), 'y': 2})   # return the value of f and the derivative in the direction of seed at x = 1, y = 1.\n",
    "f_val, f_deriv"
   ]
  },
  {
   "cell_type": "code",
   "execution_count": 24,
   "metadata": {},
   "outputs": [
    {
     "data": {
      "text/plain": "(1.0838386658856722, {'x': 2.082151450673723, 'y': 2.125780866619572})"
     },
     "execution_count": 24,
     "metadata": {},
     "output_type": "execute_result"
    }
   ],
   "source": [
    "_val, f_deriv = f({'x': np.sin(5) ,'y': 2})\n",
    "f_val, f_deriv"
   ]
  },
  {
   "cell_type": "code",
   "execution_count": 21,
   "metadata": {},
   "outputs": [],
   "source": []
  },
  {
   "cell_type": "code",
   "execution_count": null,
   "metadata": {},
   "outputs": [],
   "source": []
  }
 ],
 "metadata": {
  "kernelspec": {
   "display_name": "Python 3",
   "language": "python",
   "name": "python3"
  },
  "language_info": {
   "codemirror_mode": {
    "name": "ipython",
    "version": 3
   },
   "file_extension": ".py",
   "mimetype": "text/x-python",
   "name": "python",
   "nbconvert_exporter": "python",
   "pygments_lexer": "ipython3",
   "version": "3.7.6"
  }
 },
 "nbformat": 4,
 "nbformat_minor": 4
}
