{
 "cells": [
  {
   "cell_type": "markdown",
   "id": "e4b250cd-f09e-455f-93a6-1b445bfe8f3b",
   "metadata": {},
   "source": [
    "# Team04 Final Project: Automatic Differentiation Package\n",
    "\n"
   ]
  },
  {
   "cell_type": "markdown",
   "id": "9edd3043-7117-4aca-9a32-66a479369590",
   "metadata": {},
   "source": [
    "## Introduction\n",
    "**Automatic Differentiation (AD)** project is a python package that realizes forward mode automatic differentiation method on custom input fucntions. \n",
    "\n",
    "In scientific research or engineering projects, sometimes we would want to compute the derivative of certain functions (the `f'(x)` term in Newton's method for example.) For simple input fucntions, we can compute an exact analytical solution with ease. However, once the inputs became complicated, it may be hard or even impossible to calculate an analytical solution. This problem becomes especially intractable in deep learning, where we are interested in the derivative of model losses with respect to input features, both of which could be vectors with hundreds of dimensions.\n",
    "\n",
    "An alternative way is to compute the derivative using numerical method like automatic differentiation. It breaks down large, complex input function into the product of elementary functions, whose derivative are trivial to compute. By tracing the gradient of intermediate results and repeatedly applying chain rule, AD is able to compute the gradient of any input function in a certain direction. This carries significant importance as almost all machine learning methods rely on gradient descent, and the absolute prerequisite of gradient descent is to compute the gradient.    \n",
    "\n"
   ]
  },
  {
   "cell_type": "markdown",
   "id": "3a020eab-d7e5-48b9-9524-306add9b36fd",
   "metadata": {},
   "source": [
    "## Background\n",
    "\n",
    "*This section provides a brief overview of the mechanism of AD. Users not interested in the math may skip to* **Usage** *section below*\n",
    "\n",
    "- **Elementary Operation**\n",
    "\n",
    "  The key concept of AD is to break down a complicated function into small, managable steps, and solving each step individually. Typically, each step in AD would only perform one elementary operation. Here, \"Elementary Operations\" refer to both arithmatic operation (`+`, `-`, `*`, scalar division, power, etc.), and elementary functions (`exp`, `log`, `sin `, `cos`, etc.) These elementary operations should take only one or two inputs, and its partial derivative with respect to both inputs should be easy to compute. We would later chain these intermediate derivatives to get the overall result.\n",
    "  \n",
    "- **Chain Rule**\n",
    "\n",
    "  Chain rule in calculus is the rule to compute the derivative of compound functions. \n",
    "\n",
    "- **Directional Derivative**\n",
    "\n",
    "\n",
    "- **Compute Graph**\n",
    "\n",
    "- **Trace**\n",
    "\n"
   ]
  },
  {
   "cell_type": "markdown",
   "id": "a61806be-af62-4b1b-b3a4-958f66a3c963",
   "metadata": {},
   "source": [
    "### Usage\n",
    "\n",
    "\n",
    "\n",
    "\n"
   ]
  },
  {
   "cell_type": "markdown",
   "id": "51b3bd9f-5bac-4acb-9f8f-13b39f4ea09b",
   "metadata": {},
   "source": [
    "### Software Organization"
   ]
  },
  {
   "cell_type": "markdown",
   "id": "cb3b67e9-ffcf-4703-a147-6e3768e15e0e",
   "metadata": {},
   "source": [
    "### Implementation\n"
   ]
  },
  {
   "cell_type": "markdown",
   "id": "82d8977a-9040-4020-a57a-bc6e7f506182",
   "metadata": {},
   "source": [
    "### Licensing"
   ]
  },
  {
   "cell_type": "markdown",
   "id": "77424e6e",
   "metadata": {},
   "source": [
    "We choose **MIT License** since we would like to permit unrestricted use and distribution of our program. It is compatible with any other open-source licenses as well as closed-source, proprietary products. The MIT License is short and easy for people to understand while it perfectly fits our need. "
   ]
  },
  {
   "cell_type": "code",
   "execution_count": null,
   "id": "36bcc0af",
   "metadata": {},
   "outputs": [],
   "source": []
  }
 ],
 "metadata": {
  "kernelspec": {
   "display_name": "Python 3 (ipykernel)",
   "language": "python",
   "name": "python3"
  },
  "language_info": {
   "codemirror_mode": {
    "name": "ipython",
    "version": 3
   },
   "file_extension": ".py",
   "mimetype": "text/x-python",
   "name": "python",
   "nbconvert_exporter": "python",
   "pygments_lexer": "ipython3",
   "version": "3.9.12"
  }
 },
 "nbformat": 4,
 "nbformat_minor": 5
}
